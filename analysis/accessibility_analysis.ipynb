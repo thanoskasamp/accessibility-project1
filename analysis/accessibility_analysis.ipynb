{
 "cells": [
  {
   "cell_type": "markdown",
   "id": "5f6aa6fb-fdba-4478-8c7b-efd9cfd2bb05",
   "metadata": {},
   "source": [
    "# Project idea"
   ]
  },
  {
   "cell_type": "markdown",
   "id": "eca8269c-5f28-4bf5-b67d-4dd6ae3f107c",
   "metadata": {},
   "source": [
    "This project aims to develop an urban analytics tool to assess public transportation accessibility in two neighborhoods of Thessaloniki (Toumpa, Ano Poli). The primary focus is to calculate and analyze the walking accessibility to the nearest bus stop, comparing the two areas based on this metric."
   ]
  },
  {
   "cell_type": "markdown",
   "id": "3009f2e7-092b-494c-a55f-970846c27a22",
   "metadata": {},
   "source": [
    "## Data"
   ]
  },
  {
   "cell_type": "markdown",
   "id": "a855d482",
   "metadata": {},
   "source": [
    "The data used in this analysis was extracted from OpenStreetMap (OSM) using the OSMnx library, focusing on building footprints, street networks, and public transportation points."
   ]
  },
  {
   "cell_type": "code",
   "execution_count": null,
   "id": "ae054b24-2745-4fc0-b57a-b776ac6fe14e",
   "metadata": {},
   "outputs": [],
   "source": [
    "import pathlib \n",
    "NOTEBOOK_PATH = pathlib.Path().resolve()\n",
    "OUTPUT_DIRECTORY = NOTEBOOK_PATH / \"docs\""
   ]
  },
  {
   "cell_type": "code",
   "execution_count": null,
   "id": "5d3679c8-2a6a-4e2b-a8b3-8077a8d1eaec",
   "metadata": {},
   "outputs": [],
   "source": [
    "import pandas \n",
    "import geopandas\n",
    "import shapely.geometry\n",
    "import osmnx"
   ]
  },
  {
   "cell_type": "markdown",
   "id": "006a826e-325e-4acc-b540-fbb2ba651e00",
   "metadata": {},
   "source": [
    "### OSM Toumpa data"
   ]
  },
  {
   "cell_type": "code",
   "execution_count": null,
   "id": "267ef8ce-1b92-432b-bb91-fa33c43f2a93",
   "metadata": {},
   "outputs": [],
   "source": [
    "# Get data from OSM about toumpa\n",
    "toumpa = \"4η Κοινότητα Θεσσαλονίκης, Δημοτική Ενότητα Θεσαλονίκης, Δήμος Θεσσαλονίκης, Μητροπολιτική Ενότητα Θεσσαλονίκης, Περιφέρεια Κεντρικής Μακεδονίας, Αποκεντρωμένη Διοίκηση Μακεδονίας - Θράκης, Ελλάδα\"\n",
    "\n",
    "# Get the walking network\n",
    "graph_walk_t = osmnx.graph_from_place(toumpa, network_type='walk')"
   ]
  },
  {
   "cell_type": "code",
   "execution_count": null,
   "id": "0ccdeed5",
   "metadata": {},
   "outputs": [],
   "source": [
    "# Plot the graph to test\n",
    "figure, ax = osmnx.plot_graph(graph_walk_t)"
   ]
  },
  {
   "cell_type": "markdown",
   "id": "c537e953-a88f-49f3-81b0-4bb0fa345bb1",
   "metadata": {
    "jp-MarkdownHeadingCollapsed": true
   },
   "source": [
    "###  OSM Ano poli data"
   ]
  },
  {
   "cell_type": "code",
   "execution_count": null,
   "id": "f644ef7a-4326-49d0-9539-db1118216377",
   "metadata": {},
   "outputs": [],
   "source": [
    "# Get data about ano poli\n",
    "anopoli = \"3η Κοινότητα Θεσσαλονίκης, Δημοτική Ενότητα Θεσαλονίκης, Δήμος Θεσσαλονίκης, Μητροπολιτική Ενότητα Θεσσαλονίκης, Περιφέρεια Κεντρικής Μακεδονίας, Αποκεντρωμένη Διοίκηση Μακεδονίας - Θράκης, Ελλάδα\"\n",
    "\n",
    "# Get the walking network\n",
    "graph_walk_ano = osmnx.graph_from_place(anopoli, network_type='walk')"
   ]
  },
  {
   "cell_type": "code",
   "execution_count": null,
   "id": "75dc74a1",
   "metadata": {},
   "outputs": [],
   "source": [
    "# Plot the graph to test\n",
    "figure, ax = osmnx.plot_graph(graph_walk_ano)"
   ]
  },
  {
   "cell_type": "markdown",
   "id": "b07d31d2-5d62-4f22-8f44-455b0d49ed7c",
   "metadata": {},
   "source": [
    "## Public Transportation Accessibility"
   ]
  },
  {
   "cell_type": "markdown",
   "id": "acaee9ad",
   "metadata": {},
   "source": [
    "To analyze public transportation accessibility, we first extract the walking network for the selected neighborhoods using OpenStreetMap (OSM) data. This step involves retrieving pedestrian-friendly street networks, which form the basis for calculating walking distances to the nearest bus stops."
   ]
  },
  {
   "cell_type": "markdown",
   "id": "ffaa16c9-8fdc-4cfa-a82c-50b522f4e8dc",
   "metadata": {},
   "source": [
    "### Walking Network"
   ]
  },
  {
   "cell_type": "markdown",
   "id": "f28d3b01",
   "metadata": {},
   "source": [
    "#### Toumpa"
   ]
  },
  {
   "cell_type": "code",
   "execution_count": null,
   "id": "5c145835-f9a5-4e27-935c-ea08558d9973",
   "metadata": {},
   "outputs": [],
   "source": [
    "# Seperate to edges and nodes\n",
    "nodes_walk_t, edges_walk_t = osmnx.graph_to_gdfs(graph_walk_t)\n",
    "\n",
    "# Get Area polygon\n",
    "area_toumpa = osmnx.geocode_to_gdf(toumpa)\n",
    "\n",
    "# Reproject the crs\n",
    "area_toumpa = area_toumpa.to_crs(2100)\n",
    "nodes_walk_t = nodes_walk_t.to_crs(2100)\n",
    "edges_walk_t = edges_walk_t.to_crs(2100)\n",
    "graph_walk_t = osmnx.project_graph(graph_walk_t, to_crs='EPSG:2100')\n",
    "\n",
    "''' # Check the graph CRS\n",
    "    graph_walk_t.graph[\"crs\"] '''"
   ]
  },
  {
   "cell_type": "markdown",
   "id": "daeddb9d",
   "metadata": {},
   "source": [
    "#### Ano poli"
   ]
  },
  {
   "cell_type": "code",
   "execution_count": null,
   "id": "0652120d",
   "metadata": {},
   "outputs": [],
   "source": [
    "# Seperate to edges and nodes\n",
    "nodes_walk_ano, edges_walk_ano = osmnx.graph_to_gdfs(graph_walk_ano)\n",
    "\n",
    "# Get Area polygon\n",
    "area_anopoli = osmnx.geocode_to_gdf(anopoli)\n",
    "\n",
    "# Reproject the crs\n",
    "area_anopoli = area_anopoli.to_crs(2100)\n",
    "nodes_walk_ano = nodes_walk_ano.to_crs(2100)\n",
    "edges_walk_ano = edges_walk_ano.to_crs(2100)\n",
    "graph_walk_ano = osmnx.project_graph(graph_walk_ano, to_crs='EPSG:2100')"
   ]
  },
  {
   "cell_type": "markdown",
   "id": "8407c266-8992-4117-8f67-11f01843c895",
   "metadata": {},
   "source": [
    "### Prepare and Clean Building Data"
   ]
  },
  {
   "cell_type": "markdown",
   "id": "c31ff5a4",
   "metadata": {},
   "source": [
    "To ensure accurate accessibility analysis, we process and clean the building footprint data extracted from OpenStreetMap (OSM). This step involves filtering, restructuring, and transforming the dataset to retain only relevant attributes and remove inconsistencies."
   ]
  },
  {
   "cell_type": "markdown",
   "id": "6a25d9b0",
   "metadata": {},
   "source": [
    "#### Toumpa"
   ]
  },
  {
   "cell_type": "code",
   "execution_count": null,
   "id": "d3b80a1e-8b5c-4ae2-ada3-b6eb11f09c3a",
   "metadata": {},
   "outputs": [],
   "source": [
    "# Building Footprints\n",
    "buildings_toumpa = osmnx.features_from_place(\n",
    "    toumpa,\n",
    "    {\"building\": True},\n",
    ")\n",
    "\n",
    "# Filter columns\n",
    "buildings_toumpa = buildings_toumpa[[\"geometry\", \"building\", \"name\", \"addr:street\", \"addr:housenumber\"]]\n",
    "\n",
    "# Rename columns\n",
    "buildings_toumpa = buildings_toumpa.rename(columns={\"addr:street\": \"street\", \"addr:housenumber\": \"number\" })\n",
    "\n",
    "# Filter out Non Polygons\n",
    "valid_geom_types = [\"Polygon\", \"MultiPolygon\"]\n",
    "buildings_toumpa = buildings_toumpa[\n",
    "    buildings_toumpa.geometry.type.isin(valid_geom_types)\n",
    "]\n",
    "\n",
    "# Convert the multi‐index to normal columns\n",
    "buildings_toumpa = buildings_toumpa.reset_index()\n",
    "\n",
    "# Make \"id\" the new (single‐level) index\n",
    "buildings_toumpa = buildings_toumpa.set_index(\"id\")\n",
    "\n",
    "# Reproject the crs \n",
    "buildings_toumpa = buildings_toumpa.to_crs(2100)\n",
    "\n",
    "# Get the centroid of the buildings\n",
    "buildings_toumpa[\"centroid\"] = buildings_toumpa.geometry.centroid"
   ]
  },
  {
   "cell_type": "markdown",
   "id": "9c141448",
   "metadata": {},
   "source": [
    "#### Ano poli"
   ]
  },
  {
   "cell_type": "code",
   "execution_count": null,
   "id": "8497549e",
   "metadata": {},
   "outputs": [],
   "source": [
    "# Building Footprints\n",
    "buildings_anopoli = osmnx.features_from_place(\n",
    "    anopoli,\n",
    "    {\"building\": True},\n",
    ")\n",
    "\n",
    "# Filter columns\n",
    "buildings_anopoli = buildings_anopoli[[\"geometry\", \"building\", \"name\", \"addr:street\", \"addr:housenumber\"]]\n",
    "\n",
    "# Rename columns\n",
    "buildings_anopoli = buildings_anopoli.rename(columns={\"addr:street\": \"street\", \"addr:housenumber\": \"number\" })\n",
    "\n",
    "# Filter out Non Polygons\n",
    "valid_geom_types = [\"Polygon\", \"MultiPolygon\"]\n",
    "buildings_anopoli = buildings_anopoli[\n",
    "    buildings_anopoli.geometry.type.isin(valid_geom_types)\n",
    "]\n",
    "\n",
    "# Convert the multi‐index to normal columns\n",
    "buildings_anopoli = buildings_anopoli.reset_index()\n",
    "\n",
    "# Make \"id\" the new (single‐level) index\n",
    "buildings_anopoli = buildings_anopoli.set_index(\"id\")\n",
    "\n",
    "# Reproject the crs \n",
    "buildings_anopoli = buildings_anopoli.to_crs(2100)\n",
    "\n",
    "# Get the centroid of the buildings\n",
    "buildings_anopoli[\"centroid\"] = buildings_anopoli.geometry.centroid"
   ]
  },
  {
   "cell_type": "markdown",
   "id": "06dd3552-dcf2-4be7-bee0-e2e1fdfc9b99",
   "metadata": {},
   "source": [
    "### Nearest node"
   ]
  },
  {
   "cell_type": "markdown",
   "id": "a92c467c-3ab1-4344-a598-62123af331cf",
   "metadata": {},
   "source": [
    "This method is used because each building's centroid is efficiently snapped to the nearest node on the walking network, ensuring that network-based accessibility is calculated rather than relying on straight-line distances. It is preferred because the vectorized approach allows large datasets to be processed in an efficient manner."
   ]
  },
  {
   "cell_type": "markdown",
   "id": "59a3b9d2",
   "metadata": {},
   "source": [
    "#### Toumpa"
   ]
  },
  {
   "cell_type": "code",
   "execution_count": null,
   "id": "82d2e7d4-3115-4a31-ac65-0baca0b1ab36",
   "metadata": {},
   "outputs": [],
   "source": [
    "# Extract x and y from the centroid column\n",
    "buildings_toumpa[\"x_centroid\"] = buildings_toumpa[\"centroid\"].x\n",
    "buildings_toumpa[\"y_centroid\"] = buildings_toumpa[\"centroid\"].y\n",
    "\n",
    "# Find Nearest node\n",
    "buildings_toumpa[\"nearest_node\"] = osmnx.nearest_nodes(\n",
    "    graph_walk_t, \n",
    "    X=buildings_toumpa[\"x_centroid\"].values,\n",
    "    Y=buildings_toumpa[\"y_centroid\"].values\n",
    ")"
   ]
  },
  {
   "cell_type": "markdown",
   "id": "4f3b3b2e",
   "metadata": {},
   "source": [
    "#### Ano poli"
   ]
  },
  {
   "cell_type": "code",
   "execution_count": null,
   "id": "de89938e",
   "metadata": {},
   "outputs": [],
   "source": [
    "# Extract x and y from the centroid column\n",
    "buildings_anopoli[\"x_centroid\"] = buildings_anopoli[\"centroid\"].x\n",
    "buildings_anopoli[\"y_centroid\"] = buildings_anopoli[\"centroid\"].y\n",
    "\n",
    "# Find Nearest node\n",
    "buildings_anopoli[\"nearest_node\"] = osmnx.nearest_nodes(\n",
    "    graph_walk_ano, \n",
    "    X=buildings_anopoli[\"x_centroid\"].values,\n",
    "    Y=buildings_anopoli[\"y_centroid\"].values\n",
    ")"
   ]
  },
  {
   "cell_type": "markdown",
   "id": "bcb0a53b-4901-461e-b5e8-7358ae6897b3",
   "metadata": {},
   "source": [
    "### Point of interest (POI) - Process bus stop data"
   ]
  },
  {
   "cell_type": "markdown",
   "id": "326a3dbf-f1d5-473b-9500-88bbf3124b21",
   "metadata": {},
   "source": [
    "In this step, bus stop data is first extracted from OSM and filtered so that only point features are retained. The data is then reprojected to EPSG:2100 so that all datasets are in the same coordinate system. Finally, each bus stop is snapped to the nearest node on the walking network using a vectorized method, ensuring that subsequent network-based distance calculations can be performed accurately."
   ]
  },
  {
   "cell_type": "markdown",
   "id": "0bb31200",
   "metadata": {},
   "source": [
    "#### Toumpa"
   ]
  },
  {
   "cell_type": "code",
   "execution_count": null,
   "id": "67da32e8-d5ba-4429-b1c9-cfb168642777",
   "metadata": {},
   "outputs": [],
   "source": [
    "# Get Bus stops\n",
    "bus_toumpa = osmnx.features_from_place(\n",
    "    toumpa,\n",
    "    {\n",
    "        \"highway\": \"bus_stop\"\n",
    "    }\n",
    ")\n",
    "\n",
    "# Filter columns\n",
    "bus_toumpa = bus_toumpa[[\"geometry\", \"name\"]]\n",
    "\n",
    "# Filter to retain only point features (bus stops are expected to be points)\n",
    "bus_toumpa = bus_toumpa[bus_toumpa.geometry.type == \"Point\"]\n",
    "\n",
    "# Reproject crs\n",
    "bus_toumpa = bus_toumpa.to_crs(epsg=2100)\n",
    "\n",
    "# Extract x and y coordinates from bus stop geometries\n",
    "bus_toumpa[\"x\"] = bus_toumpa.geometry.x\n",
    "bus_toumpa[\"y\"] = bus_toumpa.geometry.y\n",
    "\n",
    "# Find Nearest node\n",
    "bus_toumpa[\"nearest_node\"] = osmnx.nearest_nodes(\n",
    "    graph_walk_t,\n",
    "    X=bus_toumpa[\"x\"].values,\n",
    "    Y=bus_toumpa[\"y\"].values\n",
    ")"
   ]
  },
  {
   "cell_type": "code",
   "execution_count": null,
   "id": "7993eaed",
   "metadata": {},
   "outputs": [],
   "source": [
    "# Check that the crs is the same on all data\n",
    "buildings_toumpa.crs == graph_walk_t.graph[\"crs\"] == nodes_walk_t.crs == edges_walk_t.crs == bus_toumpa.crs == area_toumpa.crs"
   ]
  },
  {
   "cell_type": "markdown",
   "id": "49087744",
   "metadata": {},
   "source": [
    "#### Ano poli"
   ]
  },
  {
   "cell_type": "code",
   "execution_count": null,
   "id": "b02c53b2",
   "metadata": {},
   "outputs": [],
   "source": [
    "# Get Bus stops\n",
    "bus_anopoli = osmnx.features_from_place(\n",
    "    anopoli,\n",
    "    {\n",
    "        \"highway\": \"bus_stop\"\n",
    "    }\n",
    ")\n",
    "\n",
    "# Filter columns\n",
    "bus_anopoli = bus_anopoli[[\"geometry\", \"name\"]]\n",
    "\n",
    "# Filter to retain only point features (bus stops are expected to be points)\n",
    "bus_anopoli = bus_anopoli[bus_anopoli.geometry.type == \"Point\"]\n",
    "\n",
    "# Reproject crs\n",
    "bus_anopoli = bus_anopoli.to_crs(epsg=2100)\n",
    "\n",
    "# Extract x and y coordinates from bus stop geometries\n",
    "bus_anopoli[\"x\"] = bus_anopoli.geometry.x\n",
    "bus_anopoli[\"y\"] = bus_anopoli.geometry.y\n",
    "\n",
    "# Find Nearest node\n",
    "bus_anopoli[\"nearest_node\"] = osmnx.nearest_nodes(\n",
    "    graph_walk_ano,\n",
    "    X=bus_anopoli[\"x\"].values,\n",
    "    Y=bus_anopoli[\"y\"].values\n",
    ")"
   ]
  },
  {
   "cell_type": "code",
   "execution_count": null,
   "id": "75f1f8fb",
   "metadata": {},
   "outputs": [],
   "source": [
    "# Check that the crs is the same on all data\n",
    "buildings_anopoli.crs == graph_walk_ano.graph[\"crs\"] == nodes_walk_ano.crs == edges_walk_ano.crs == bus_anopoli.crs == area_anopoli.crs"
   ]
  },
  {
   "cell_type": "markdown",
   "id": "9dd1779e-b4e0-4ce9-ac1b-24ecc2b422f4",
   "metadata": {},
   "source": [
    "### Shortest Path Walking Distance"
   ]
  },
  {
   "cell_type": "markdown",
   "id": "33983ee8",
   "metadata": {},
   "source": [
    "For each building’s centroid, the Euclidean distances to all bus stops are calculated, and the smallest (closest) distance is identified. For simplicity, only the straight‐line distance is used, rather than the full walking path distance."
   ]
  },
  {
   "cell_type": "markdown",
   "id": "9c110afd",
   "metadata": {},
   "source": [
    "#### Toumpa"
   ]
  },
  {
   "cell_type": "code",
   "execution_count": null,
   "id": "25567c81",
   "metadata": {},
   "outputs": [],
   "source": [
    "buildings_toumpa[\"distance_to_busstop\"] = buildings_toumpa[\"centroid\"].geometry.apply(\n",
    "    lambda x: bus_toumpa.distance(x).min().round(2)\n",
    ")"
   ]
  },
  {
   "cell_type": "markdown",
   "id": "5fdd7d81",
   "metadata": {},
   "source": [
    "For each centroid, the name and node ID of the closest bus stop are retrieved and stored in the respective columns."
   ]
  },
  {
   "cell_type": "code",
   "execution_count": null,
   "id": "b69bc17c",
   "metadata": {},
   "outputs": [],
   "source": [
    "buildings_toumpa[\"bus_stop\"] = buildings_toumpa[\"centroid\"].geometry.apply(\n",
    "    lambda x: bus_toumpa.loc[bus_toumpa.geometry.distance(x).idxmin()][\"name\"]\n",
    ")\n",
    "\n",
    "buildings_toumpa[\"bus_node\"] = buildings_toumpa[\"centroid\"].geometry.apply(\n",
    "    lambda x: bus_toumpa.loc[bus_toumpa.geometry.distance(x).idxmin()][\"nearest_node\"]\n",
    ")"
   ]
  },
  {
   "cell_type": "markdown",
   "id": "f4d13d36",
   "metadata": {},
   "source": [
    "A list of dictionaries, each representing a route, is built. The start and end node IDs for each building are used with OSMnx to compute the shortest path, and if a valid route is found, its geometry is converted into a LineString; otherwise, an empty LineString is assigned. All route information is then compiled into a GeoDataFrame, ensuring a row is created for every building."
   ]
  },
  {
   "cell_type": "code",
   "execution_count": null,
   "id": "e6ea9281",
   "metadata": {},
   "outputs": [],
   "source": [
    "# We'll accumulate a list of dicts, each representing one route row\n",
    "all_routes = []\n",
    "\n",
    "# Loop through each building\n",
    "for idx, row in buildings_toumpa.iterrows():\n",
    "    start_node = row[\"nearest_node\"]\n",
    "    end_node = row[\"bus_node\"]\n",
    "\n",
    "    # Compute the shortest path\n",
    "    route = osmnx.shortest_path(graph_walk_t, start_node, end_node)\n",
    "    \n",
    "    # If no route or only a single node, make an empty LineString\n",
    "    if route is None or len(route) < 2:\n",
    "        route_line = shapely.geometry.LineString([])\n",
    "        route_length = 0.0\n",
    "        # Store an empty list if no valid route\n",
    "        route_nodes_list = route if route else []\n",
    "    else:\n",
    "        # Grab the corresponding geometry from nodes for each node in route\n",
    "        route_nodes = nodes_walk_t.loc[route]\n",
    "        route_line = shapely.geometry.LineString(route_nodes.geometry.values)\n",
    "        route_length = route_line.length\n",
    "        route_nodes_list = route\n",
    "    \n",
    "    # Build our dictionary of attributes for this row\n",
    "    route_info = {\n",
    "        \"geometry\": route_line,\n",
    "        \"osm_nodes\": route_nodes_list,\n",
    "        \"building_id\": idx,\n",
    "        \"walking_distance_m\": round(route_length, 2),\n",
    "    }\n",
    "    \n",
    "    # Append the dictionary to our list\n",
    "    all_routes.append(route_info)\n",
    "\n",
    "# Convert to a GeoDataFrame\n",
    "all_routes_gdf = geopandas.GeoDataFrame(all_routes, crs=edges_walk_t.crs)\n",
    "\n",
    "# all_routes_gdf now has a row for each building:\n",
    "#  - If a route was found with ≥2 nodes, you'll see a proper LineString.\n",
    "#  - If not, it's an empty LineString (distance = 0).\n",
    "all_routes_gdf.head()\n"
   ]
  },
  {
   "cell_type": "code",
   "execution_count": null,
   "id": "816d15bd",
   "metadata": {},
   "outputs": [],
   "source": [
    "# Visualization Test\n",
    "fig, ax = osmnx.plot_graph_route(graph_walk_t, all_routes_gdf[\"osm_nodes\"].iloc[19])"
   ]
  },
  {
   "cell_type": "markdown",
   "id": "28aa4548",
   "metadata": {},
   "source": [
    "#### Ano poli"
   ]
  },
  {
   "cell_type": "code",
   "execution_count": null,
   "id": "f928c646",
   "metadata": {},
   "outputs": [],
   "source": [
    "buildings_anopoli[\"distance_to_busstop\"] = buildings_anopoli[\"centroid\"].geometry.apply(\n",
    "    lambda x: bus_anopoli.distance(x).min().round(2)\n",
    ")\n",
    "\n",
    "buildings_anopoli[\"bus_stop\"] = buildings_anopoli[\"centroid\"].geometry.apply(\n",
    "    lambda x: bus_anopoli.loc[bus_anopoli.geometry.distance(x).idxmin()][\"name\"]\n",
    ")\n",
    "\n",
    "buildings_anopoli[\"bus_node\"] = buildings_anopoli[\"centroid\"].geometry.apply(\n",
    "    lambda x: bus_anopoli.loc[bus_anopoli.geometry.distance(x).idxmin()][\"nearest_node\"]\n",
    ")\n",
    "\n",
    "# We'll accumulate a list of dicts, each representing one route row\n",
    "all_routes = []\n",
    "\n",
    "# Loop through each building\n",
    "for idx, row in buildings_anopoli.iterrows():\n",
    "    start_node = row[\"nearest_node\"]\n",
    "    end_node = row[\"bus_node\"]\n",
    "\n",
    "    # Compute the shortest path\n",
    "    route = osmnx.shortest_path(graph_walk_ano, start_node, end_node)\n",
    "    \n",
    "    # If no route or only a single node, make an empty LineString\n",
    "    if route is None or len(route) < 2:\n",
    "        route_line = shapely.geometry.LineString([])\n",
    "        route_length = 0.0\n",
    "        # Store an empty list if no valid route\n",
    "        route_nodes_list = route if route else []\n",
    "    else:\n",
    "        # Grab the corresponding geometry from nodes for each node in route\n",
    "        route_nodes = nodes_walk_ano.loc[route]\n",
    "        route_line = shapely.geometry.LineString(route_nodes.geometry.values)\n",
    "        route_length = route_line.length\n",
    "        route_nodes_list = route\n",
    "    \n",
    "    # Build our dictionary of attributes for this row\n",
    "    route_info = {\n",
    "        \"geometry\": route_line,\n",
    "        \"osm_nodes\": route_nodes_list,\n",
    "        \"building_id\": idx,\n",
    "        \"walking_distance_m\": round(route_length, 2),\n",
    "    }\n",
    "    \n",
    "    # Append the dictionary to our list\n",
    "    all_routes.append(route_info)\n",
    "\n",
    "# Convert to a GeoDataFrame\n",
    "all_routes_ano = geopandas.GeoDataFrame(all_routes, crs=edges_walk_ano.crs)\n",
    "\n",
    "# all_routes_gdf now has a row for each building:\n",
    "#  - If a route was found with ≥2 nodes, you'll see a proper LineString.\n",
    "#  - If not, it's an empty LineString (distance = 0).\n",
    "all_routes_ano.head()\n"
   ]
  },
  {
   "cell_type": "code",
   "execution_count": null,
   "id": "057d37d0",
   "metadata": {},
   "outputs": [],
   "source": [
    "# Visualization Test\n",
    "fig, ax = osmnx.plot_graph_route(graph_walk_ano, all_routes_ano[\"osm_nodes\"].iloc[0])"
   ]
  },
  {
   "cell_type": "markdown",
   "id": "79ffef7d",
   "metadata": {},
   "source": [
    "### Calculate walking time"
   ]
  },
  {
   "cell_type": "markdown",
   "id": "6a912dbf",
   "metadata": {},
   "source": [
    "According to Browning et al. (2006), it has been observed that many people tend to walk at about 1.42 m/s. Consequently, the route distance was divided by this speed to compute the walking time in seconds, which was then converted to minutes."
   ]
  },
  {
   "cell_type": "markdown",
   "id": "fc44b306",
   "metadata": {},
   "source": [
    "#### Toumpa"
   ]
  },
  {
   "cell_type": "code",
   "execution_count": null,
   "id": "a5b8ec0e",
   "metadata": {},
   "outputs": [],
   "source": [
    "# Merge the walking distances back to the buildings\n",
    "buildings_toumpa = buildings_toumpa.merge(\n",
    "    all_routes_gdf[[\"building_id\", \"walking_distance_m\"]],\n",
    "    how=\"left\",\n",
    "    left_index=True,  # Column in buildings_toumpa\n",
    "    right_on=\"building_id\"    # Column in all_routes_gdf\n",
    ")\n",
    "\n",
    "# Calculate walking time\n",
    "buildings_toumpa[\"walking_time_min\"] = (\n",
    "    buildings_toumpa[\"walking_distance_m\"] / 1.42 / 60\n",
    ").round(2)"
   ]
  },
  {
   "cell_type": "markdown",
   "id": "4317e5e5",
   "metadata": {},
   "source": [
    "#### Ano poli"
   ]
  },
  {
   "cell_type": "code",
   "execution_count": null,
   "id": "23534ee0",
   "metadata": {},
   "outputs": [],
   "source": [
    "# Merge the walking distances back to the buildings\n",
    "buildings_anopoli = buildings_anopoli.merge(\n",
    "    all_routes_ano[[\"building_id\", \"walking_distance_m\"]],\n",
    "    how=\"left\",\n",
    "    left_index=True,  # Column in buildings_anopoli\n",
    "    right_on=\"building_id\"    # Column in all_routes_gdf\n",
    ")\n",
    "\n",
    "# Calculate walking time\n",
    "buildings_anopoli[\"walking_time_min\"] = (\n",
    "    buildings_anopoli[\"walking_distance_m\"] / 1.42 / 60\n",
    ").round(2)"
   ]
  },
  {
   "cell_type": "markdown",
   "id": "418e256d",
   "metadata": {},
   "source": [
    "## Mapping"
   ]
  },
  {
   "cell_type": "markdown",
   "id": "5491c32f",
   "metadata": {},
   "source": [
    "### Static Map"
   ]
  },
  {
   "cell_type": "markdown",
   "id": "cd54f6c3",
   "metadata": {},
   "source": [
    "#### Toumpa"
   ]
  },
  {
   "cell_type": "code",
   "execution_count": null,
   "id": "fb9d25de",
   "metadata": {},
   "outputs": [],
   "source": [
    "# Change the crs for the basemap\n",
    "buildings_toumpa = buildings_toumpa.to_crs(\"EPSG:3857\")\n",
    "bus_toumpa = bus_toumpa.to_crs(\"EPSG:3857\")\n",
    "area_toumpa = area_toumpa.to_crs(\"EPSG:3857\")\n",
    "edges_walk_t = edges_walk_t.to_crs(\"EPSG:3857\")"
   ]
  },
  {
   "cell_type": "code",
   "execution_count": null,
   "id": "e3193cee",
   "metadata": {},
   "outputs": [],
   "source": [
    "import matplotlib.pyplot as plt\n",
    "import contextily\n",
    "from mapclassify import UserDefined\n",
    "import matplotlib.patches as mpatches\n",
    "\n",
    "# Define custom breakpoints\n",
    "breaks = [2, 5, 10, 15]\n",
    "\n",
    "# Plot the data\n",
    "ax = buildings_toumpa.plot(\n",
    "    figsize=(10, 10),\n",
    "    column=\"walking_time_min\",\n",
    "    scheme=\"UserDefined\", # Classification \n",
    "    classification_kwds={\"bins\": breaks}, # Classification breaks\n",
    "    legend=True,\n",
    "    cmap=plt.cm.viridis.reversed(),\n",
    "    legend_kwds={\"title\": \"Walking time (min)\", \"loc\": \"lower right\"},\n",
    ")\n",
    "\n",
    "area_toumpa.plot(\n",
    "    ax=ax, \n",
    "    color=\"none\", \n",
    "    edgecolor=\"black\", \n",
    "    linewidth=2,\n",
    "    linestyle='--',\n",
    ")\n",
    "\n",
    "edges_walk_t.plot(\n",
    "    ax=ax,\n",
    "    color=\"gray\",\n",
    "    linewidth=0.75\n",
    ")\n",
    "\n",
    "bus_toumpa.plot(\n",
    "    ax=ax,\n",
    "    color=\"red\",\n",
    "    markersize=25   \n",
    ")\n",
    "\n",
    "ax.set_title('Walking time to the nearest bus stop of Ano Toumpa')\n",
    "\n",
    "\n",
    "# Add the basemap\n",
    "contextily.add_basemap(ax, source = contextily.providers.OpenStreetMap.Mapnik, alpha=0.3)\n",
    "\n",
    "plt.show()"
   ]
  },
  {
   "cell_type": "markdown",
   "id": "c02444be",
   "metadata": {},
   "source": [
    "#### Ano poli"
   ]
  },
  {
   "cell_type": "code",
   "execution_count": null,
   "id": "6e3058ca",
   "metadata": {},
   "outputs": [],
   "source": [
    "# Change the crs for the basemap\n",
    "buildings_anopoli = buildings_anopoli.to_crs(\"EPSG:3857\")\n",
    "bus_anopoli = bus_anopoli.to_crs(\"EPSG:3857\")\n",
    "area_anopoli = area_anopoli.to_crs(\"EPSG:3857\")\n",
    "edges_walk_ano = edges_walk_ano.to_crs(\"EPSG:3857\")"
   ]
  },
  {
   "cell_type": "code",
   "execution_count": null,
   "id": "3447ecf9",
   "metadata": {},
   "outputs": [],
   "source": [
    "import matplotlib.pyplot as plt\n",
    "import contextily\n",
    "from mapclassify import UserDefined\n",
    "import matplotlib.patches as mpatches\n",
    "\n",
    "# Define custom breakpoints\n",
    "breaks = [2, 5, 10, 15]\n",
    "\n",
    "# Plot the data\n",
    "ax = buildings_anopoli.plot(\n",
    "    figsize=(10, 10),\n",
    "    column=\"walking_time_min\",\n",
    "    scheme=\"UserDefined\", # Classification \n",
    "    classification_kwds={\"bins\": breaks}, # Classification breaks\n",
    "    legend=True,\n",
    "    cmap=plt.cm.viridis.reversed(),\n",
    "    legend_kwds={\"title\": \"Walking time (min)\", \"loc\": \"lower right\"},\n",
    ")\n",
    "\n",
    "area_anopoli.plot(\n",
    "    ax=ax, \n",
    "    color=\"none\", \n",
    "    edgecolor=\"black\", \n",
    "    linewidth=2,\n",
    "    linestyle='--',\n",
    ")\n",
    "\n",
    "edges_walk_ano.plot(\n",
    "    ax=ax,\n",
    "    color=\"gray\",\n",
    "    linewidth=0.75\n",
    ")\n",
    "\n",
    "bus_anopoli.plot(\n",
    "    ax=ax,\n",
    "    color=\"red\",\n",
    "    markersize=25   \n",
    ")\n",
    "\n",
    "ax.set_title('Walking time to the nearest bus stop of Ano Poli')\n",
    "\n",
    "\n",
    "# Add the basemap\n",
    "contextily.add_basemap(ax, source = contextily.providers.OpenStreetMap.Mapnik, alpha=0.3)\n",
    "\n",
    "plt.show()"
   ]
  },
  {
   "cell_type": "markdown",
   "id": "132551c2",
   "metadata": {},
   "source": [
    "### Interactive Map"
   ]
  },
  {
   "cell_type": "markdown",
   "id": "b37f9c72",
   "metadata": {},
   "source": [
    "#### Toumpa"
   ]
  },
  {
   "cell_type": "code",
   "execution_count": null,
   "id": "d3bd758c",
   "metadata": {},
   "outputs": [],
   "source": [
    "# Keep only the columns we need for thge buidlings\n",
    "buildingst = buildings_toumpa[\n",
    "    [\"geometry\",\n",
    "    \"building_id\", \n",
    "    \"bus_stop\", \n",
    "    \"walking_time_min\", \n",
    "    \"walking_distance_m\"]\n",
    "]"
   ]
  },
  {
   "cell_type": "code",
   "execution_count": null,
   "id": "66c05f1e",
   "metadata": {},
   "outputs": [],
   "source": [
    "# Change the crs for the interactive map\n",
    "buildingst = buildingst.to_crs(\"EPSG:4326\")\n",
    "bus_toumpa = bus_toumpa.to_crs(\"EPSG:4326\")\n",
    "area_toumpa = area_toumpa.to_crs(\"EPSG:4326\")\n",
    "edges_walk_t = edges_walk_t.to_crs(\"EPSG:4326\")"
   ]
  },
  {
   "cell_type": "code",
   "execution_count": null,
   "id": "6288c156",
   "metadata": {},
   "outputs": [],
   "source": [
    "# Extract x and y coordinates from bus stop geometries for markers\n",
    "bus_toumpa[\"x\"] = bus_toumpa.geometry.x\n",
    "bus_toumpa[\"y\"] = bus_toumpa.geometry.y"
   ]
  },
  {
   "cell_type": "code",
   "execution_count": null,
   "id": "425f0c83",
   "metadata": {},
   "outputs": [],
   "source": [
    "import folium\n",
    "import folium.features\n",
    "from folium.plugins import MarkerCluster, Fullscreen\n",
    "from branca.element import MacroElement, Template\n",
    "\n",
    "# Create a folium map with no default basemap\n",
    "interactive_map = folium.Map(\n",
    "    location=(40.618012, 22.9756743),\n",
    "    zoom_start=14,\n",
    "    control_scale=True,\n",
    "    tiles=None  # We will add tile layers below\n",
    ")\n",
    "\n",
    "# Add the CartoDB Positron tile layer (default on)\n",
    "folium.TileLayer(\n",
    "    'CartoDB positron',\n",
    "    name='CartoDB Positron',\n",
    "    control=True,\n",
    "    show=True  # Show this layer by default\n",
    ").add_to(interactive_map)\n",
    "\n",
    "# Add the OpenStreetMap tile layer (off by default)\n",
    "folium.TileLayer(\n",
    "    'OpenStreetMap',\n",
    "    name='OpenStreetMap',\n",
    "    control=True,\n",
    "    show=False  # Do not show this layer by default\n",
    ").add_to(interactive_map)\n",
    "\n",
    "# Buildings layer\n",
    "toumpa_grid_layer = folium.Choropleth(\n",
    "    geo_data=buildingst,\n",
    "    data=buildingst,\n",
    "    columns=[\"building_id\", \"walking_time_min\"],\n",
    "    key_on=\"feature.properties.building_id\",\n",
    "    fill_color=\"YlGnBu\",\n",
    "    fill_opacity=1,\n",
    "    line_opacity=0.4,\n",
    "    name=\"Buildings\",\n",
    "    highlight=True,\n",
    ").add_to(interactive_map)\n",
    "\n",
    "# Remove Folium Chorpleth map legend\n",
    "for key in toumpa_grid_layer._children:\n",
    "    if key.startswith('color_map'):\n",
    "        del(toumpa_grid_layer._children[key])\n",
    "\n",
    "# Custom legend\n",
    "    # Load your custom HTML from the file\n",
    "    with open(\"analysis/my_legend.html\", \"r\") as f:\n",
    "        legend_html = f.read()\n",
    "    # Create a MacroElement from that HTML\n",
    "    legend = MacroElement()\n",
    "    legend._template = Template(legend_html)\n",
    "    # Attach the legend to the map\n",
    "    interactive_map.add_child(legend)\n",
    "\n",
    "# Area of Toumpa layer\n",
    "area_toumpa_layer = folium.features.GeoJson(\n",
    "    area_toumpa,\n",
    "    name=\"Area of Toumpa\",\n",
    "    color=\"black\",\n",
    "    fillOpacity=0\n",
    ").add_to(interactive_map)\n",
    "\n",
    "walking_toumpa_layer = folium.features.GeoJson(\n",
    "    edges_walk_t,\n",
    "    name=\"Walking Network\",\n",
    "    color=\"gray\",\n",
    "    weight=1\n",
    ").add_to(interactive_map)\n",
    "\n",
    "# Tooltip for buildings\n",
    "tooltip = folium.features.GeoJsonTooltip(\n",
    "    fields=[\"building_id\", \"bus_stop\", \"walking_distance_m\", \"walking_time_min\"],\n",
    "    aliases=[\"building_id\", \"nearest_bus_stop\", \"walking_distance_m\", \"walking_time_min\"],\n",
    ")\n",
    "\n",
    "def style_function(feature):\n",
    "    return {\n",
    "        \"color\": \"transparent\",\n",
    "        \"fillColor\": \"transparent\"\n",
    "    }\n",
    "\n",
    "tooltip_layer = folium.features.GeoJson(\n",
    "    buildingst,\n",
    "    style_function=style_function,\n",
    "    tooltip=tooltip,\n",
    "    name=\"Tooltip\"\n",
    ").add_to(interactive_map)\n",
    "\n",
    "# Create a MarkerCluster for bus stops\n",
    "marker_cluster = MarkerCluster(name='Bus Stops').add_to(interactive_map)\n",
    "\n",
    "# Add bus stop markers to the cluster\n",
    "for index, row in bus_toumpa.iterrows():\n",
    "    popup_text = f\"<strong>Bus stop:</strong> {row['name']}\"\n",
    "    popup = folium.Popup(popup_text, max_width=250)\n",
    "\n",
    "    folium.Marker(\n",
    "        [row[\"y\"], row[\"x\"]],\n",
    "        popup=popup,\n",
    "        tooltip=\"Click for bus stop info\",\n",
    "        icon=folium.Icon(color=\"red\", prefix='fa', icon='bus')\n",
    "    ).add_to(marker_cluster)\n",
    "\n",
    "# Add a fullscreen button\n",
    "Fullscreen().add_to(interactive_map)\n",
    "\n",
    "# Add layer control\n",
    "folium.LayerControl().add_to(interactive_map)\n",
    "\n",
    "# Display map\n",
    "interactive_map\n"
   ]
  },
  {
   "cell_type": "markdown",
   "id": "5ca298b8",
   "metadata": {},
   "source": [
    "#### Ano poli"
   ]
  },
  {
   "cell_type": "code",
   "execution_count": null,
   "id": "6b25d13d",
   "metadata": {},
   "outputs": [],
   "source": [
    "# Keep only the columns we need for the buidlings\n",
    "buildingsa = buildings_anopoli[\n",
    "    [\"geometry\",\n",
    "    \"building_id\", \n",
    "    \"bus_stop\", \n",
    "    \"walking_time_min\", \n",
    "    \"walking_distance_m\"]\n",
    "]"
   ]
  },
  {
   "cell_type": "code",
   "execution_count": null,
   "id": "47ec02ba",
   "metadata": {},
   "outputs": [],
   "source": [
    "# Change the crs for the interactive map\n",
    "buildingsa = buildingsa.to_crs(\"EPSG:4326\")\n",
    "bus_anopoli = bus_anopoli.to_crs(\"EPSG:4326\")\n",
    "area_anopoli = area_anopoli.to_crs(\"EPSG:4326\")\n",
    "edges_walk_ano = edges_walk_ano.to_crs(\"EPSG:4326\")"
   ]
  },
  {
   "cell_type": "code",
   "execution_count": null,
   "id": "595cb643",
   "metadata": {},
   "outputs": [],
   "source": [
    "# Extract x and y coordinates from bus stop geometries for markers\n",
    "bus_anopoli[\"x\"] = bus_anopoli.geometry.x\n",
    "bus_anopoli[\"y\"] = bus_anopoli.geometry.y"
   ]
  },
  {
   "cell_type": "code",
   "execution_count": null,
   "id": "b5967088",
   "metadata": {},
   "outputs": [],
   "source": [
    "# Create a folium map\n",
    "interactive_map2 = folium.Map(\n",
    "    location = (40.640978,22.9534333),\n",
    "    zoom_start = 15,\n",
    "    control_scale = True,\n",
    "    tiles=None\n",
    ")\n",
    "\n",
    "# Add the base tile layers first\n",
    "carto_map = folium.TileLayer(\n",
    "    'CartoDB positron',\n",
    "    name='CartoDB Positron',\n",
    "    control=True,\n",
    "    show=True  # This one shows by default\n",
    ").add_to(interactive_map2)\n",
    "\n",
    "open_street_map = folium.TileLayer(\n",
    "    'OpenStreetMap',\n",
    "    name='OpenStreetMap',\n",
    "    control=True,\n",
    "    show=False  # Off by default\n",
    ").add_to(interactive_map2)\n",
    "\n",
    "# Add the buildings\n",
    "anopoli_grid_layer = folium.Choropleth(\n",
    "    geo_data=buildingsa,\n",
    "    data=buildingsa,\n",
    "    columns=[\"building_id\", \"walking_time_min\"],\n",
    "    key_on=\"feature.properties.building_id\",\n",
    "    fill_color=\"YlGnBu\",\n",
    "    fill_opacity=1,\n",
    "    line_opacity=0.4,\n",
    "    name=\"Buildings\",\n",
    "    highlight=True,   \n",
    ").add_to(interactive_map2)\n",
    "\n",
    "# Remove folium chorpleth map\n",
    "for key in anopoli_grid_layer._children:\n",
    "    if key.startswith('color_map'):\n",
    "        del(anopoli_grid_layer._children[key])\n",
    "        \n",
    "# Custom legend\n",
    "    # Load your custom HTML from the file\n",
    "    with open(\"analysis/my_legend.html\", \"r\") as f:\n",
    "        legend_html = f.read()\n",
    "    # Create a MacroElement from that HTML\n",
    "    legend = MacroElement()\n",
    "    legend._template = Template(legend_html)\n",
    "    # Attach the legend to the map\n",
    "    interactive_map2.add_child(legend)\n",
    "\n",
    "area_anopoli_layer = folium.features.GeoJson(\n",
    "    area_anopoli,\n",
    "    name=\"Area of Ano poli\",\n",
    "    color=\"black\",\n",
    "    fillOpacity=0\n",
    ").add_to(interactive_map2)\n",
    "\n",
    "\n",
    "walking_anopoli_layer = folium.features.GeoJson(\n",
    "    edges_walk_ano,\n",
    "    name=\"Walking Network\",\n",
    "    color=\"gray\",\n",
    "    weight=1\n",
    ").add_to(interactive_map2)\n",
    "\n",
    "# Add a tooltip to display information about the buildings\n",
    "tooltipa = folium.features.GeoJsonTooltip(\n",
    " fields=[\n",
    "        \"building_id\",\n",
    "        \"bus_stop\",\n",
    "        \"walking_distance_m\",\n",
    "        \"walking_time_min\"\n",
    "    ], \n",
    "    aliases=[\n",
    "        \"building_id\",\n",
    "        \"nearest_bus_stop\",\n",
    "        \"walking_distance_m\",\n",
    "        \"walking_time_min\"\n",
    "    ], \n",
    ")\n",
    "\n",
    "def style_function(feature):\n",
    "    return {\n",
    "        \"color\": \"transparent\",\n",
    "        \"fillColor\": \"transparent\"\n",
    "    }\n",
    "\n",
    "tooltipa_layer = folium.features.GeoJson(\n",
    "    buildingsa,\n",
    "    style_function=style_function,\n",
    "    tooltip=tooltipa,\n",
    "    name=\"Tooltip\"\n",
    ").add_to(interactive_map2)\n",
    "\n",
    "\n",
    "# Create a MarkerCluster for bus stops and add markers\n",
    "marker_clustera = MarkerCluster(name='Bus Stops').add_to(interactive_map2)\n",
    "for index, row in bus_anopoli.iterrows():\n",
    "    # Format the popup content for each bus stop\n",
    "    popup_texta = f\"<strong>Bus stop:</strong> {row['name']}\"\n",
    "    popupa = folium.Popup(popup_texta, max_width=250)\n",
    "    \n",
    "    # Add a marker to the feature group\n",
    "    folium.Marker(\n",
    "        [row[\"y\"], row[\"x\"]],\n",
    "        popup=popupa,\n",
    "        tooltip=\"Click for bus stop info\",\n",
    "        icon=folium.Icon(color=\"red\", prefix='fa', icon='bus')\n",
    "    ).add_to(marker_clustera)\n",
    "\n",
    "# Add a fullscreen button and layer control\n",
    "Fullscreen().add_to(interactive_map2)\n",
    "folium.LayerControl().add_to(interactive_map2)\n",
    "\n",
    "\n",
    "interactive_map2"
   ]
  },
  {
   "cell_type": "markdown",
   "id": "069eaf6b",
   "metadata": {},
   "source": [
    "## Save the data"
   ]
  },
  {
   "cell_type": "markdown",
   "id": "7b84867c",
   "metadata": {},
   "source": [
    "### Static Map data"
   ]
  },
  {
   "cell_type": "markdown",
   "id": "5914f0bd",
   "metadata": {},
   "source": [
    "To ensure compatibility with QGIS, all spatial data must be saved in the EPSG:2100 (Hellenic Geodetic Reference System). Since the data was reprojected to EPSG:3857 (Web Mercator) for visualization in Matplotlib, it must be reprojected back to EPSG:2100 before exporting."
   ]
  },
  {
   "cell_type": "markdown",
   "id": "0f04da12",
   "metadata": {},
   "source": [
    "#### Toumpa"
   ]
  },
  {
   "cell_type": "code",
   "execution_count": null,
   "id": "49f37232",
   "metadata": {},
   "outputs": [],
   "source": [
    "# Change the crs for the GIS\n",
    "buildings_toumpa = buildings_toumpa.to_crs(\"EPSG:2100\")\n",
    "bus_toumpa = bus_toumpa.to_crs(\"EPSG:2100\")\n",
    "area_toumpa = area_toumpa.to_crs(\"EPSG:2100\")\n",
    "edges_walk_t = edges_walk_t.to_crs(\"EPSG:2100\")\n",
    "all_routes_gdf = all_routes_gdf.to_crs(\"EPSG:2100\")"
   ]
  },
  {
   "cell_type": "code",
   "execution_count": null,
   "id": "30a698da",
   "metadata": {},
   "outputs": [],
   "source": [
    "# Drop centroid columns\n",
    "buildings_toumpa = buildings_toumpa.drop(columns=[\"centroid\", \"x_centroid\", \"y_centroid\"], axis=1)"
   ]
  },
  {
   "cell_type": "code",
   "execution_count": null,
   "id": "757e21df",
   "metadata": {},
   "outputs": [],
   "source": [
    "# Ensure the output directory exists\n",
    "OUTPUT_DIRECTORY.mkdir(parents=True, exist_ok=True)\n",
    "\n",
    "# Save one layer after another\n",
    "output_gpkg = OUTPUT_DIRECTORY / \"toumpa_accessibility.gpkg\"\n",
    "\n",
    "buildings_toumpa.to_file(output_gpkg, layer=\"buildings\", driver=\"GPKG\")\n",
    "bus_toumpa.to_file(output_gpkg, layer=\"bus_stops\", driver=\"GPKG\")\n",
    "area_toumpa.to_file(output_gpkg, layer=\"area\", driver=\"GPKG\")\n",
    "edges_walk_t.to_file(output_gpkg, layer=\"walking_network\", driver=\"GPKG\")\n",
    "all_routes_gdf.to_file(output_gpkg, layer=\"walking_routes\", driver=\"GPKG\")"
   ]
  },
  {
   "cell_type": "markdown",
   "id": "9c5e82a1",
   "metadata": {},
   "source": [
    "#### Ano poli"
   ]
  },
  {
   "cell_type": "code",
   "execution_count": null,
   "id": "22ea1eec",
   "metadata": {},
   "outputs": [],
   "source": [
    "# Change the crs for the GIS\n",
    "buildings_anopoli = buildings_anopoli.to_crs(\"EPSG:2100\")\n",
    "bus_anopoli = bus_anopoli.to_crs(\"EPSG:2100\")\n",
    "area_anopoli = area_anopoli.to_crs(\"EPSG:2100\")\n",
    "edges_walk_ano = edges_walk_ano.to_crs(\"EPSG:2100\")\n",
    "all_routes_ano = all_routes_ano.to_crs(\"EPSG:2100\")"
   ]
  },
  {
   "cell_type": "code",
   "execution_count": null,
   "id": "fb691125",
   "metadata": {},
   "outputs": [],
   "source": [
    "# Drop centroid columns\n",
    "buildings_anopoli = buildings_anopoli.drop(columns=[\"centroid\", \"x_centroid\", \"y_centroid\"], axis=1)"
   ]
  },
  {
   "cell_type": "code",
   "execution_count": null,
   "id": "fee58589",
   "metadata": {},
   "outputs": [],
   "source": [
    "# Save one layer after another\n",
    "output_gpkg = OUTPUT_DIRECTORY / \"anopoli_accessibility.gpkg\"\n",
    "\n",
    "buildings_anopoli.to_file(output_gpkg, layer=\"buildings\", driver=\"GPKG\")\n",
    "bus_anopoli.to_file(output_gpkg, layer=\"bus_stops\", driver=\"GPKG\")\n",
    "area_anopoli.to_file(output_gpkg, layer=\"area\", driver=\"GPKG\")\n",
    "edges_walk_ano.to_file(output_gpkg, layer=\"walking_network\", driver=\"GPKG\")\n",
    "all_routes_ano.to_file(output_gpkg, layer=\"walking_routes\", driver=\"GPKG\")"
   ]
  },
  {
   "cell_type": "markdown",
   "id": "45a17bb0",
   "metadata": {},
   "source": [
    "### Interactive Maps"
   ]
  },
  {
   "cell_type": "code",
   "execution_count": null,
   "id": "8806caec",
   "metadata": {},
   "outputs": [],
   "source": [
    "# Ensure the output directory exists\n",
    "OUTPUT_DIRECTORY.mkdir(parents=True, exist_ok=True)\n",
    "\n",
    "# Save the maps as html\n",
    "interactive_map.save(OUTPUT_DIRECTORY / \"toumpa_interactive.html\")\n",
    "interactive_map2.save(OUTPUT_DIRECTORY / \"anopoli_interactive.html\")"
   ]
  }
 ],
 "metadata": {
  "kernelspec": {
   "display_name": "autogis",
   "language": "python",
   "name": "python3"
  },
  "language_info": {
   "codemirror_mode": {
    "name": "ipython",
    "version": 3
   },
   "file_extension": ".py",
   "mimetype": "text/x-python",
   "name": "python",
   "nbconvert_exporter": "python",
   "pygments_lexer": "ipython3",
   "version": "3.9.21"
  }
 },
 "nbformat": 4,
 "nbformat_minor": 5
}
